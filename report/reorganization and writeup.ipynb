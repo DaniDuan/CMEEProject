{
 "cells": [
  {
   "cell_type": "markdown",
   "metadata": {},
   "source": [
    "# Introduction"
   ]
  },
  {
   "cell_type": "markdown",
   "metadata": {},
   "source": [
    "### Microbes is the most diverse group of organisms known on Earth and plays a crucial role in biogeochemical cycling fundamental for a wide range of ecosystem functions. \n",
    "\n",
    "The emergence and maintenance of microbial communities’ structures under natural and anthropogenic environmental conditions remain central topics in the field of microbial ecology. Current research in dissecting the mechanisms of community assembly generally accept the simultaneous operation of deterministic and stochastic processes ([Chase et al. 2011](https://royalsocietypublishing.org/doi/10.1098/rstb.2011.0063), [Posfai et al. 2017](https://journals.aps.org/prl/abstract/10.1103/PhysRevLett.118.028103#fulltext), [Goyal et al.](https://www.nature.com/articles/s41396-018-0222-x), [Tilman 2004](https://www.pnas.org/content/101/30/10854)), that the emergence of community structures is governed by fitness selection (survival and growth), drift, speciation and spatial dispersal ([Vellend (2010)](https://www.researchgate.net/publication/44689600_Conceptual_Synthesis_in_Community_Ecology)). And these ecological processes are influenced by nutrient availability, environmental filtering (e.g. temperature, pH, moisture) and interspecies interactions (e.g. cross-feeding, competition)([Chesson 2000](https://www.annualreviews.org/doi/full/10.1146/annurev.ecolsys.31.1.343)). \n",
    "\n",
    "Temperature is one of the fundamental factors for microbial metabolism, regulating the reaction rates of enzyme activities which controls growth rate and species interactions. In response to the rapid development of sequencing technologies ([Kirk et al. 2004](https://www.sciencedirect.com/science/article/pii/S0167701204000983), [Theron et al. 2008](https://www.tandfonline.com/doi/abs/10.1080/10408410091154174), [Tiedje et al. 1999](https://www.sciencedirect.com/science/article/pii/S0929139399000268)), rising number of empirical field studies were conducted interpreting the diversity patterns of microbial communities, however have reported different results regarding the tendency of microbial diversity across temperatures ([Thompson et al. 2017](https://www.nature.com/articles/nature24621), [Zhou et al. 2016](https://www.nature.com/articles/ncomms12083?origin=ppub#Abs1), [Kolton et al. 2019](https://www.frontiersin.org/articles/10.3389/fmicb.2019.00870/full)). The hardship in deriving a universal temperature response pattern for diversity is generally caused by the difficulty in disentangling multiple biotic and abiotic impacting factors in determining community structure ([Zhou et al. 2020](https://www.nature.com/articles/s41467-020-16881-7), [Hendershot et al. 2017](https://esajournals.onlinelibrary.wiley.com/doi/full/10.1002/ecy.1829)). \n",
    "\n",
    "Microbial carbon use efficiency (CUE) reflects the ability of organics decomposition in relation to the ecosystem function of carbon cycling. CUE describes the ratio of carbon assimilation and carbon intake, which considers organic matter decomposition, biomass production and carbon loss through respiration and extracellular secretion of organic carbon ([Bardgett et al. 2008](https://www.nature.com/articles/ismej200858)). The general effect of temperature on CUE is difficult to predict since all processes mentioned above are related to microbial metabolism and enzyme reactions, which would all be impacted by temperature factor ([Davidson & Janssens 2006](https://www.nature.com/articles/nature04514), [Gang et al. 2019](https://bioone.org/journals/journal-of-resources-and-ecology/volume-10/issue-1/j.issn.1674-764x.2019.01.009/A-Meta-Analysis-of-the-Effects-of-Warming-and-Elevated/10.5814/j.issn.1674-764x.2019.01.009.full), [Smith et al. 2019](https://www.nature.com/articles/s41467-019-13109-1)) but at different degrees depending on their temperature sensitivity. \n",
    "\n",
    "While [Domeignoz-Horta et al. 2020](https://www.nature.com/articles/s41467-020-17502-z) reported the positive correlation between soil microbial diversity and CUE through an empirical study on global warming, the selection of CUE during the stabilizing process of the community can also be a driver for regulating community diversity.\n",
    "\n",
    "This study aims at understanding the role environmental temperature plays on microbial diversity and CUE. In this study, I disentangle the natural abiotic deterministic factors impacting community assembly, focus on the emergence of heterotrophic mesophilic bacterial community diversity patterns under operational temperatures, the CUE patterns of the resultant communities, and the relationship between microbial diversity and CUE. \n",
    "\n",
    "I start with randomly generated microbial communities to circumvent the issue of the complication of numerous hard-to-measure parameters in ecosystems, with the idea that the general resource-consumer model with random parameters can reproduce empirical observations of microbial community assembly ([Goldford et al. 2018](https://science.sciencemag.org/content/361/6401/469)). Then impose selective pressure of resources and interspecies interactions under thermodynamic constraints, using temperature responses of species traits derived from empirical data. "
   ]
  },
  {
   "cell_type": "markdown",
   "metadata": {},
   "source": [
    "# Methods"
   ]
  },
  {
   "cell_type": "markdown",
   "metadata": {},
   "source": [
    "## Biomass and resource dynamics model"
   ]
  },
  {
   "cell_type": "markdown",
   "metadata": {},
   "source": [
    "The core model used in this study was first adapted by Tom Clegg and Dr. Emma Cavan from Consumer-Resource Models in [MacArthur (1970)](https://www.sciencedirect.com/science/article/pii/0040580970900390) and [Marsland et al. (2019)](https://journals.plos.org/ploscompbiol/article?id=10.1371/journal.pcbi.1006793), then further adapted into the current version, considering the concentration dynamics of N species of heterotrophic mesophilic bacteria consumers competing for M types of resources.\n",
    "\n",
    "The consumer (C) biomass concentration (g/mL) dynamic is modelled by calculating the carbon resource requirement for exponential growth: the gain of carbon through resource uptake, minus the loss of carbon through inefficiency during uptake and the transformation of compound (metabolic secretion and maintenance respiration). \n",
    "The resource (S) concentration (g/mL) dynamic is modelled by calculating carbon inflow minus outflow. The inflow of each resource includes a contant abiotic external supply, the leakage during consumers' uptake, and the metabolic by-products biochemically transformed from other resources; the outflow is the total uptake of the resource by all consumers. \n"
   ]
  },
  {
   "cell_type": "markdown",
   "metadata": {},
   "source": [
    "The biomass concentration dynamic of species i: \n",
    "\\begin{equation}\n",
    "dC_i/dt = C_i\\Bigl(\\sum_{j=1}^{M}U_{ij}S_j(1-\\sum_{k=1}^{M}l_{jk}) - R_i\\Bigl)\n",
    "\\end{equation}\n"
   ]
  },
  {
   "cell_type": "markdown",
   "metadata": {},
   "source": [
    "\n",
    "The resource concentration dynamic of resource j:\n",
    "\\begin{equation}\n",
    "dS_j/dt = \\rho_j - \\sum_{i=1}^{N}\\Bigl(C_iU_{ij}S_j-\\sum_{k=1}^{M}C_iU_{ik}S_kl_{kj}\\Bigl)\n",
    "\\end{equation}"
   ]
  },
  {
   "cell_type": "markdown",
   "metadata": {},
   "source": [
    "In these equations above, we are only considering a Type I functional response, assuming a linear relationship between resource consumption and growth rate. $U_{ij}$ is the uptake preference of the M resources by species i. On species level, uptake $U_i$ follows the temperature and size dependencies and is randomly assigned across M resources. $l_{jk}$ follows the leakage-transformation matrix with total leakage summing up to 0.4 for each resource ($l_j = 0.4$), when $j = k$, $l_{jk}$ value is the leakage fraction resulting from the inefficiency of the resource uptake; when $j < k$, $l_{jk}$ value is the biochemical transformation of resource j into k; when $j > k$, $l_{jk}$ values are 0, for I am considering the reactions to be irriversible following the second law of thermodynamics. $R_i$ is the carbon loss of species i through maintenance respiration. $\\rho_j$ is the concentration of abiotic external supply for resource j. "
   ]
  },
  {
   "cell_type": "markdown",
   "metadata": {},
   "source": [
    "## Temperature and size dependencies"
   ]
  },
  {
   "cell_type": "markdown",
   "metadata": {},
   "source": [
    "The uptake and respiration rates in the model are considered size and temperature dependent following the Metabolic Theory of Ecology and a modified version of the Schoolfield equation ([Kontopoulos et al., 2020](https://onlinelibrary.wiley.com/doi/full/10.1111/evo.13946)), assuming both metabolic rates are controlled by single enzymes whose reaction rates are deteremined by temperature, and deactivate outside operational temperature range. "
   ]
  },
  {
   "cell_type": "markdown",
   "metadata": {},
   "source": [
    "Temperature and size dependencies for resource uptake (U) and maintenance respiration (R): \n",
    "\\begin{equation}\n",
    "U_{i} = \\frac{U_0m^{-1/4} \\times {e^{\\frac{-Ea_U}{k}\\cdot\\Bigl(\\frac{1}{T} - \\frac{1}{T_{ref}}\\Bigl)}}}{1 + \\frac{Ea_U}{E_{D_U}-Ea_U}e^{\\frac{E_{D_U}}{k}\\cdot(\\frac{1}{T_{pk_U}}-\\frac{1}{T_{ref}})}}\n",
    "\\end{equation}\n",
    "\n",
    "\\begin{equation}\n",
    "R_i = \\frac{R_0m^{-1/4} \\times {e^{\\frac{-Ea_R}{k}\\cdot\\Bigl(\\frac{1}{T} - \\frac{1}{T_{ref}}\\Bigl)}}}{1 + \\frac{Ea_R}{E_{D_R}-Ea_R}e^{\\frac{E_{D_R}}{k}\\cdot(\\frac{1}{T_{pk_R}}-\\frac{1}{T_{ref}})}}\n",
    "\\end{equation}"
   ]
  },
  {
   "cell_type": "markdown",
   "metadata": {},
   "source": [
    "Note that the parameters values for these equations are given according to [Smith et al. (2019)](https://www.nature.com/articles/s41467-019-13109-1), assuming that resource uptake follows a similar temperature dependency curve with bacterial growth rate. All temperature terms are in the unit of Kelvin(K). \n",
    "\n",
    "In these equations, the metabolic rates are normalized to biomass specific for each consumer with $B = B_0 m^{(-\\frac{1}{4})}$ where m is the biomass of the organism, and are all given a value of 1 g in this model since we are not discussing the size effects during assembly. k is the Boltsmann constant, $8.617 \\times 10^{−5} eV K^{−1}$. T is the model temperature and $T_{ref}$ is the reference temperature. $T_{pk}$ is the temperature for highest metabolic rates and also is the deactivation temperature for related enzyme, $T_{pk}$ for uptake is sampled from a normal distribution with mean value at 308.15 K, and 3 degrees higher for respiration. $E_a$ values are the activation energies, sampled from beta distributions with median values of 0.82 ev and 0.67 ev for uptake and respiration. $E_D$ values are the deactivation energies, set to 3.5 eV for all reactions. $U_0$ and $R_0$ are the uptake and respiration rates at reference temperatures."
   ]
  },
  {
   "cell_type": "markdown",
   "metadata": {},
   "source": [
    "![U+R](./Schoolfield.png)"
   ]
  },
  {
   "cell_type": "markdown",
   "metadata": {},
   "source": [
    "Figure 1. An example of the temperature performance curves for resource uptake rate and respiration rate of a single species, following the modified version of the Schoolfield equation. "
   ]
  },
  {
   "cell_type": "markdown",
   "metadata": {},
   "source": [
    "<div>\n",
    "<img src=\"./U.png\" width=\"300\"/>\n",
    "<img src=\"./l.png\" width=\"250\"/>\n",
    "</div>\n"
   ]
  },
  {
   "cell_type": "markdown",
   "metadata": {},
   "source": [
    "Figure 2. Upper plot: An example of random resource uptake distribution matrix ($U_{ij}$) of 5 species competing for 5 resources at 25 &deg;C, darker color represents higher uptake rate of the consumer on certain resource. The line plots on the side presents the temperature dependence curve of uptake rate for each species ($U_i$), the vertical line in the middle of every plot dictates the value of uptake rate at 25 &deg;C. Lower plot: An example of leakage-transformation matrix ($l_{ij}$) for 5 resources, with $l_j = 0.4$. Darker color represents higher leakage/transformation of the resource from i to j. "
   ]
  },
  {
   "cell_type": "markdown",
   "metadata": {},
   "source": [
    "## Assembly simulation"
   ]
  },
  {
   "cell_type": "markdown",
   "metadata": {},
   "source": [
    "!!! missing demonstration figure for model !!!"
   ]
  },
  {
   "cell_type": "markdown",
   "metadata": {},
   "source": [
    "The simulation for community assemblies is run on Python. \n",
    "\n",
    "For each assembly, I start the system with a random pool of 100 species competing for 50 resources, then run the selection process by integrating the concentration dynamics differential equation of species and resources (equation 1 and 2). The running time is set to 4000 for all systems to reach steady state ($dC_i/dt = 0$ and $dS_j/dt = 0$), with a constant flux of externally supply of resource at each time point ($\\rho_j = 1$). The initial biomass concentration for each species is 0.1 g/mL and the initial resource concentration for each resource is 1 g/mL. \n",
    "\n",
    "Cross-feeding is modelled through the leakage-transformation matrix. Reference temperature for the temperature dependences of both metabolic traits are set to 0 &deg;C. \n",
    "\n",
    "For each invation event of the community, all extinct species (with biomass < 0.01 g/mL) are replaced with randomly generated new species, then the system is run to reach a new equilibrium. The invation events are performed for a set number of times inside one assembly. "
   ]
  },
  {
   "cell_type": "markdown",
   "metadata": {},
   "source": [
    "![resource_example](./resource_con_example.png)\n",
    "![consumer_example](./consumer_con_example.png)\n",
    "![resource_example](./resource_con2_example.png)\n",
    "![consumer_example](./consumer_con2_example.png)"
   ]
  },
  {
   "cell_type": "markdown",
   "metadata": {},
   "source": [
    "Figure 3. Example plots showing the consumer biomass and resource concentration dynamics of one assembly (upper two plots), and two parallel assemblies on continuous time (lower two plots.)"
   ]
  },
  {
   "cell_type": "markdown",
   "metadata": {},
   "source": [
    "![rich_example](./rich_example.png)"
   ]
  },
  {
   "cell_type": "markdown",
   "metadata": {},
   "source": [
    "Figure 4. Example plot showing the average diversity decay during community stablizing of 30 parallel assemblies (CI = 0.95). "
   ]
  },
  {
   "cell_type": "markdown",
   "metadata": {},
   "source": [
    "![immigration](./immigration_resource.png)\n",
    "![immigration](./immigration_consumer.png)\n"
   ]
  },
  {
   "cell_type": "markdown",
   "metadata": {},
   "source": [
    "Figure 5. Example plots showing the consumer biomass and resource concentration dynamics of one assembly (upper two plots); and one assembly with one invation event, extinct species (with biomass <0.01 g/mL) are replaced with randomly generated new species (lower two plots)."
   ]
  },
  {
   "cell_type": "markdown",
   "metadata": {},
   "source": [
    "![immigration_diversity](./maintenance_diveristy_1assembly.png)"
   ]
  },
  {
   "cell_type": "markdown",
   "metadata": {},
   "source": [
    "Figure 6. Example plot of the emergence of stable coexistence after 300 invations to the community, during community stablizing of 30 parallel assemblies (CI = 0.95). "
   ]
  },
  {
   "cell_type": "markdown",
   "metadata": {},
   "source": [
    "## Calculation for CUE"
   ]
  },
  {
   "cell_type": "markdown",
   "metadata": {},
   "source": [
    "We consider CUE as an intrinsic value for each species, encoded in the species' preference for uptake, leakage and transformation ability of carbon source, and maintenance respiration required for survival. These CUE values are then selected during assembly. "
   ]
  },
  {
   "cell_type": "markdown",
   "metadata": {},
   "source": [
    "The intrinsic CUE value of species i is calculated with a common CUE calculation method using $\\frac{\\text{Carbon Gain} - \\text {Carbon Loss}}{\\text{Carbon Gain}}$ [(Manzoni et al. 2012)](https://nph.onlinelibrary.wiley.com/doi/pdfdirect/10.1111/j.1469-8137.2012.04225.x):\n",
    "\\begin{equation}\n",
    "CUE_i = \\frac{\\sum\\limits _{j=1}^{M}U_{ij}S_0(1-\\sum\\limits_{k=1}^{M}l_{jk}) - R_i}{\\sum\\limits _{j=1}^{M}U_{ij}S_0}\n",
    "\\end{equation}"
   ]
  },
  {
   "cell_type": "markdown",
   "metadata": {},
   "source": [
    "$S_0$ here is the initial resource concentration at the beginning of the assembly, which is 1 g/mL. \n",
    "\n",
    "According to [Smith et al. (2020)](https://www.biorxiv.org/content/10.1101/2020.09.14.296095v1), the temperature response of CUE for organisms within the operational temperature range (OTR) has the form of the Boltzmann-Arrhenius equation. Here I give a similar calculation process of the intrinsic CUE based on equation(5), assuming the exponential increase of metabolic rates with temperature is equivalent to the Boltzmann-Arrhenius equation.\n"
   ]
  },
  {
   "cell_type": "markdown",
   "metadata": {},
   "source": [
    "\\begin{equation}\n",
    "CUE = \\frac{U_0e^{\\frac{-Ea_U}{k}\\cdot\\Bigl(\\frac{1}{T} - \\frac{1}{T_{ref}}\\Bigl)} (1-l) - R_0e^{\\frac{-Ea_R}{k}\\cdot\\Bigl(\\frac{1}{T} - \\frac{1}{T_{ref}}\\Bigl)}}{U_0e^{\\frac{-Ea_U}{k}\\cdot\\Bigl(\\frac{1}{T} - \\frac{1}{T_{ref}}\\Bigl)}}\n",
    "\\end{equation}\n"
   ]
  },
  {
   "cell_type": "markdown",
   "metadata": {},
   "source": [
    "The species CUE value at reference temperature ($T = T_{ref}$):\n",
    "\\begin{equation}\n",
    "CUE_0 = \\frac{U_0(1 - l) - R_0}{U_0}\n",
    "\\end{equation}\n"
   ]
  },
  {
   "cell_type": "markdown",
   "metadata": {},
   "source": [
    "If we take a log form of equation(6), and assign $\\Delta T = \\frac{1}{k}\\Bigl(\\frac{1}{T} - \\frac{1}{T_{ref}}\\Bigl) \\rightarrow 0$, then we can calculate the approximation of CUE as the first-order Taylor expression: "
   ]
  },
  {
   "cell_type": "markdown",
   "metadata": {},
   "source": [
    "\\begin{equation}\n",
    "lnCUE = ln(U(1-l) - R) - lnU \\approx ln(U_0(1-l) - R_0) - lnU_0 + \\bigl(\\frac{R_0E_R - R_0E_U}{U_0(1-l)-R_0}\\bigl)\\Delta T\n",
    "\\end{equation}\n"
   ]
  },
  {
   "cell_type": "markdown",
   "metadata": {},
   "source": [
    "Which equation has the form of an Arrhenius equation, so if we take $CUE_0$ out of the equation, we can see the activation energy of CUE as: "
   ]
  },
  {
   "cell_type": "markdown",
   "metadata": {},
   "source": [
    "\\begin{equation}\n",
    "Ea_{CUE} = \\frac{R_0(E_U - E_R)}{U_0(1-l) - R_0}\n",
    "\\end{equation}\n"
   ]
  },
  {
   "cell_type": "markdown",
   "metadata": {},
   "source": [
    "## Interspecies competition"
   ]
  },
  {
   "cell_type": "markdown",
   "metadata": {},
   "source": [
    "(Weighted Jaccard index for resource overlap)"
   ]
  },
  {
   "cell_type": "markdown",
   "metadata": {},
   "source": [
    "# Results"
   ]
  },
  {
   "cell_type": "markdown",
   "metadata": {},
   "source": [
    "One species one resource: 1/R\n",
    "\n",
    "Severeal species one resource: \n",
    "The R* rule [Tilman 1982](https://www.jstor.org/stable/j.ctvx5wb72.6?refreqid=excelsior%3A1f508bf8fe019ff4a18b07fdb5af428a&seq=2#metadata_info_tab_contents)\n",
    "\n",
    "When the system reaches equilibrium, both $dS/dt$ and $dC/dt = 0$. The resource concentration required for one species to survive ($Sr_i$) can be calculated as: "
   ]
  },
  {
   "cell_type": "markdown",
   "metadata": {},
   "source": [
    "\\begin{equation}\n",
    "Sr_i = \\frac{R_i}{\\sum \\limits_{j=1}^{M}U_{ij}(1-l_j)}\n",
    "\\end{equation}\n",
    "\n",
    "\\begin{equation}\n",
    "CUE_i = (1 - Sr_i) (1-\\sum \\limits_{j=1}^{M}l_j)\n",
    "\\end{equation}\n"
   ]
  },
  {
   "cell_type": "markdown",
   "metadata": {},
   "source": [
    "![Assembly_2](./2_consumer_25C.png)\n",
    "![Assembly_1](./2_consumer_Tref.png)"
   ]
  },
  {
   "cell_type": "markdown",
   "metadata": {},
   "source": [
    "Figure 7. An example of two species who have different $Sr_i$ (upper) and have the same $Sr_i$ (lower) competing over one resource. In the upper plot, the richness is confined by the number of resource, however in the lower plot both species can survive, regardless of their initial biomass concentration. "
   ]
  },
  {
   "cell_type": "markdown",
   "metadata": {},
   "source": [
    "Selecting for Ea_CUE, Tref = 0"
   ]
  },
  {
   "cell_type": "markdown",
   "metadata": {},
   "source": [
    "![rich_selecting Ea CUE](./selectingEaCUE.png)"
   ]
  },
  {
   "cell_type": "markdown",
   "metadata": {},
   "source": [
    "Figure 8. Richness is decreasing with increasing temperature within operational temperature range. "
   ]
  },
  {
   "cell_type": "markdown",
   "metadata": {},
   "source": [
    "![selecting CUE](./selectingEaCUE_1.png)"
   ]
  },
  {
   "cell_type": "markdown",
   "metadata": {},
   "source": [
    "Figure 9. The selection of CUE values at different temperatures. As temperature increases, the uptake and respiration rates increase rapidly for every species, however only species with lower resource requirement survive (higher uptake rate and lower respiration rate), equivalent to the selection of higher CUE values. "
   ]
  },
  {
   "cell_type": "markdown",
   "metadata": {},
   "source": [
    "![Resource overlap](./Resource_overlap.png)"
   ]
  },
  {
   "cell_type": "markdown",
   "metadata": {},
   "source": [
    "Figure 10. The selection of resource overlap at different temperatures: Stronger selection for lower resource overlap at higher temperature. "
   ]
  },
  {
   "cell_type": "markdown",
   "metadata": {},
   "source": [
    "![Selecting Ea CUE](./selectingEaCUE_2.png)\n",
    "![selecting Ea CUE with richness](./EaCUE_richness.png)"
   ]
  },
  {
   "cell_type": "markdown",
   "metadata": {},
   "source": [
    "Figure 11. Temperature selection of the activation energy (Ea) for species CUE (upper), and the relation of Ea CUE with species richness (lower). Higher temperature environments favor specialists with higher Ea CUE values, and the stronger selection for higher Ea CUE values resulted in lower richness of the microbial community. "
   ]
  }
 ],
 "metadata": {
  "kernelspec": {
   "display_name": "Python 3",
   "language": "python",
   "name": "python3"
  },
  "language_info": {
   "codemirror_mode": {
    "name": "ipython",
    "version": 3
   },
   "file_extension": ".py",
   "mimetype": "text/x-python",
   "name": "python",
   "nbconvert_exporter": "python",
   "pygments_lexer": "ipython3",
   "version": "3.8.3"
  },
  "latex_envs": {
   "LaTeX_envs_menu_present": true,
   "autoclose": false,
   "autocomplete": true,
   "bibliofile": "biblio.bib",
   "cite_by": "apalike",
   "current_citInitial": 1,
   "eqLabelWithNumbers": true,
   "eqNumInitial": 1,
   "hotkeys": {
    "equation": "Ctrl-E",
    "itemize": "Ctrl-I"
   },
   "labels_anchors": false,
   "latex_user_defs": false,
   "report_style_numbering": false,
   "user_envs_cfg": false
  }
 },
 "nbformat": 4,
 "nbformat_minor": 4
}
