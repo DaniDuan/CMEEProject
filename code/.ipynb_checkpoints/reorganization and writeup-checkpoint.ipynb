{
 "cells": [
  {
   "cell_type": "markdown",
   "metadata": {},
   "source": [
    "# Introduction"
   ]
  },
  {
   "cell_type": "markdown",
   "metadata": {},
   "source": [
    "- Diversity / richness with temperature (How the richness/diversity patterns emerge under different temperatures.)\n",
    "- Carbon use efficiency (CUE) with temperature\n",
    "- [Domeignoz et al. 2020](https://www.nature.com/articles/s41467-020-17502-z)"
   ]
  },
  {
   "cell_type": "markdown",
   "metadata": {},
   "source": [
    "# Methods"
   ]
  },
  {
   "cell_type": "markdown",
   "metadata": {},
   "source": [
    "## Biomass and resource dynamics model"
   ]
  },
  {
   "cell_type": "markdown",
   "metadata": {},
   "source": [
    "The core model used in this study was first adapted by Tom Clegg and Dr. Emma Cavan from Consumer-Resource Models in [MacArthur (1970)](https://www.sciencedirect.com/science/article/pii/0040580970900390) and [Marsland et al. (2019)](https://journals.plos.org/ploscompbiol/article?id=10.1371/journal.pcbi.1006793), then further adapted into the current version, considering the concentration dynamics of N species of heterotrophic mesophilic bacteria consumers competing for M types of resources.\n",
    "\n",
    "Consumer (C) biomass concentration (g/mL) through time is modelled with the carbon resource required for an exponential growth, calculated by the gain of carbon from resource uptake, minus the loss of carbon from inefficiency during uptake and the transformation of compound (metabolic secretion and maintenance respiration). \n",
    "Resource (S) concentration (g/mL) through time is modelled with carbon inflow minus outflow. The inflow of each resource includes a contant abiotic external supply, the leakage during consumer uptake, and the biochemical product of other resources; the outflow is the total uptake of the resource by all consumers. \n"
   ]
  },
  {
   "cell_type": "markdown",
   "metadata": {},
   "source": [
    "The biomass concentration dynamic of species i: \n",
    "\\begin{equation}\n",
    "dC_i/dt = C_i\\Bigl(\\sum_{j=1}^{M}U_{ij}S_j(1-\\sum_{k=1}^{M}l_{jk}) - R_i\\Bigl)\n",
    "\\end{equation}\n"
   ]
  },
  {
   "cell_type": "markdown",
   "metadata": {},
   "source": [
    "\n",
    "The resource concentration dynamic of resource j:\n",
    "\\begin{equation}\n",
    "dS_j/dt = \\rho_j - \\sum_{i=1}^{N}\\Bigl(C_iU_{ij}S_j-\\sum_{k=1}^{M}C_iU_{ik}S_kl_{kj}\\Bigl)\n",
    "\\end{equation}"
   ]
  },
  {
   "cell_type": "markdown",
   "metadata": {},
   "source": [
    "In the equations above, we are only considering a Type I functional response, assuming a linear relationship between resource consumption and growth rate. $U_{ij}$ is the uptake preference of the M resources by species i. On species level ($U_i$), uptake follows the temperature and size dependencies and is randomly assigned across M resources. $l_{jk}$ follows the leakage-transformation matrix with total leakage summing up to 0.4 for each resource ($l_j = 0.4$), when $j = k$, $l_{jk}$ value is the leakage fraction resulting from the inefficiency of the resource uptake; when $j < k$, $l_{jk}$ value is the biochemical transformation of resource j into k; when $j > k$, $l_{jk}$ values are 0, for I am considering the reactions to be irriversible following the second law of thermodynamics. $R_i$ is the carbon loss of species i through maintenance respiration. $\\rho_j$ is the concentration of abiotic external supply for resource j. "
   ]
  },
  {
   "cell_type": "markdown",
   "metadata": {},
   "source": [
    "## Temperature and size dependencies"
   ]
  },
  {
   "cell_type": "markdown",
   "metadata": {},
   "source": [
    "The uptake and respiration rates of each species are considered size and temperature dependent following the Metabolic Theory of Ecology and a modified version of the Schoolfield equation ([Kontopoulos et al., 2020](https://onlinelibrary.wiley.com/doi/full/10.1111/evo.13946)), assuming both metabolic rates are controlled by single enzymes whose reaction rates are deteremined by temperature, and deactivate outside operational temperature range. "
   ]
  },
  {
   "cell_type": "markdown",
   "metadata": {},
   "source": [
    "Temperature and size dependencies for resource uptake (U) and maintenance respiration (R): \n",
    "\\begin{equation}\n",
    "U_{i} = \\frac{U_0m^{-1/4} \\times {e^{\\frac{-Ea_U}{k}\\cdot\\Bigl(\\frac{1}{T} - \\frac{1}{T_{ref}}\\Bigl)}}}{1 + \\frac{Ea_U}{E_{D_U}-Ea_U}e^{\\frac{E_{D_U}}{k}\\cdot(\\frac{1}{T_{pk_U}}-\\frac{1}{T_{ref}})}}\n",
    "\\end{equation}\n",
    "\n",
    "\\begin{equation}\n",
    "R_i = \\frac{R_0m^{-1/4} \\times {e^{\\frac{-Ea_R}{k}\\cdot\\Bigl(\\frac{1}{T} - \\frac{1}{T_{ref}}\\Bigl)}}}{1 + \\frac{Ea_R}{E_{D_R}-Ea_R}e^{\\frac{E_{D_R}}{k}\\cdot(\\frac{1}{T_{pk_R}}-\\frac{1}{T_{ref}})}}\n",
    "\\end{equation}"
   ]
  },
  {
   "cell_type": "markdown",
   "metadata": {},
   "source": [
    "Note that the parameters for these equations are given according to [Smith et al. (2019)](https://www.nature.com/articles/s41467-019-13109-1), assuming that resource uptake follows a similar temperature dependency curve with bacterial growth rate. All temperature terms are in the unit of Kelvin(K). \n",
    "\n",
    "In these equations, the metabolic rates are normalized to biomass specific for each consumer with $B = B_0 m^{(-\\frac{1}{4})}$ where m is the biomass of the organism, and are all given a value of 1 g in this model since we are not discussing the size effects during assembly. k is the Boltsmann constant, $8.617 \\times 10^{−5} eV K^{−1}$. T is the model temperature and $T_{ref}$ is the reference temperature. $T_{pk}$ is the temperature for highest metabolic rates and also is the deactivation temperature for related enzyme, $T_{pk}$ for uptake is sampled from a normal distribution with mean value at 308.15 K, and 3 degrees higher for respiration. $E_a$ values are the activation energies, sampled from beta distributions with median values of 0.82 ev and 0.67 ev for uptake and respiration. $E_D$ values are the deactivation energies, set to 3.5 eV for all reactions. $U_0$ and $R_0$ are the metabolic rates at reference temperatures."
   ]
  },
  {
   "cell_type": "markdown",
   "metadata": {},
   "source": [
    "## Assembly"
   ]
  },
  {
   "cell_type": "markdown",
   "metadata": {},
   "source": []
  },
  {
   "cell_type": "markdown",
   "metadata": {},
   "source": [
    "## Calculation for CUE"
   ]
  },
  {
   "cell_type": "markdown",
   "metadata": {},
   "source": [
    "We consider CUE as an intrinsic value for each species, which is encoded in the species' preference for uptake, leakage and transformation ability of carbon source, and maintenance respiration required for survival. These CUE values are then selected during assembly. "
   ]
  },
  {
   "cell_type": "markdown",
   "metadata": {},
   "source": [
    "The intrinsic CUE value of species i is calculated with a common method using $\\frac{\\text{Carbon Gain} - \\text {Carbon Loss}}{\\text{Carbon Gain}}$ [(Manzoni et al. 2012)](https://nph.onlinelibrary.wiley.com/doi/pdfdirect/10.1111/j.1469-8137.2012.04225.x):\n",
    "\\begin{equation}\n",
    "CUE_i = \\frac{\\sum\\limits _{j=1}^{M}U_{ij}S_0(1-\\sum\\limits_{k=1}^{M}l_{jk}) - R_i}{\\sum\\limits _{j=1}^{M}U_{ij}S_0}\n",
    "\\end{equation}"
   ]
  },
  {
   "cell_type": "markdown",
   "metadata": {},
   "source": [
    "$S_0$ here is the initial resource concentration at the beginning of the assembly, which is 1 g/mL. \n",
    "\n",
    "According to [Smith et al. (2020)](https://www.biorxiv.org/content/10.1101/2020.09.14.296095v1), the temperature response of CUE for organisms within the operational temperature range (OTR) has the form of the Boltzmann-Arrhenius equation. Here we give a similar calculation process for the above CUE equation.\n",
    "\n",
    "Given the nature of these metabolic rates and only considering temperature impacts within consumers' OTR, the rates of reactions increase exponentially following the Arrhenius equation, the intrinsic CUE value of each species could be calculated as:"
   ]
  },
  {
   "cell_type": "markdown",
   "metadata": {},
   "source": [
    "\\begin{equation}\n",
    "CUE = \\frac{U_0e^{\\frac{-Ea_U}{k}\\cdot\\Bigl(\\frac{1}{T} - \\frac{1}{T_{ref}}\\Bigl)} (1-l) - R_0e^{\\frac{-Ea_R}{k}\\cdot\\Bigl(\\frac{1}{T} - \\frac{1}{T_{ref}}\\Bigl)}}{U_0e^{\\frac{-Ea_U}{k}\\cdot\\Bigl(\\frac{1}{T} - \\frac{1}{T_{ref}}\\Bigl)}}\n",
    "\\end{equation}\n"
   ]
  },
  {
   "cell_type": "markdown",
   "metadata": {},
   "source": [
    "The species CUE value at reference temperature ($T = T_{ref}$):\n",
    "\\begin{equation}\n",
    "CUE_0 = \\frac{U_0(1 - l) - R_0}{U_0}\n",
    "\\end{equation}\n"
   ]
  },
  {
   "cell_type": "markdown",
   "metadata": {},
   "source": [
    "If we take a log form of equation(6), and assign $\\Delta T = \\frac{1}{k}\\Bigl(\\frac{1}{T} - \\frac{1}{T_{ref}}\\Bigl) \\rightarrow 0$, then we can calculate the approximation of CUE with the first-order Taylor expression: "
   ]
  },
  {
   "cell_type": "markdown",
   "metadata": {},
   "source": [
    "\\begin{equation}\n",
    "lnCUE = ln(U(1-l) - R) - lnU \\approx ln(U_0(1-l) - R_0) - lnU_0 + \\bigl(\\frac{RE_R - RE_U}{U_0(1-l)-R_0}\\bigl)\\Delta T\n",
    "\\end{equation}\n"
   ]
  },
  {
   "cell_type": "markdown",
   "metadata": {},
   "source": [
    "Which equation has the form of an Arrhenius equation, so if we take $CUE_0$ out of the equation, we get the activation energy of CUE: "
   ]
  },
  {
   "cell_type": "markdown",
   "metadata": {},
   "source": [
    "\\begin{equation}\n",
    "Ea_{CUE} = \\frac{R_0(E_U - E_R)}{U_0(1-l) - R_0}\n",
    "\\end{equation}\n"
   ]
  },
  {
   "attachments": {},
   "cell_type": "markdown",
   "metadata": {},
   "source": [
    "![title](img/picture.png)"
   ]
  }
 ],
 "metadata": {
  "kernelspec": {
   "display_name": "Python 3",
   "language": "python",
   "name": "python3"
  },
  "language_info": {
   "codemirror_mode": {
    "name": "ipython",
    "version": 3
   },
   "file_extension": ".py",
   "mimetype": "text/x-python",
   "name": "python",
   "nbconvert_exporter": "python",
   "pygments_lexer": "ipython3",
   "version": "3.8.3"
  },
  "latex_envs": {
   "LaTeX_envs_menu_present": true,
   "autoclose": false,
   "autocomplete": true,
   "bibliofile": "biblio.bib",
   "cite_by": "apalike",
   "current_citInitial": 1,
   "eqLabelWithNumbers": true,
   "eqNumInitial": 1,
   "hotkeys": {
    "equation": "Ctrl-E",
    "itemize": "Ctrl-I"
   },
   "labels_anchors": false,
   "latex_user_defs": false,
   "report_style_numbering": false,
   "user_envs_cfg": false
  }
 },
 "nbformat": 4,
 "nbformat_minor": 4
}
