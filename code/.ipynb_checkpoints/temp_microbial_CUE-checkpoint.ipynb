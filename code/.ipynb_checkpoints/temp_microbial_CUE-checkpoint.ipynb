{
 "cells": [
  {
   "cell_type": "markdown",
   "metadata": {},
   "source": [
    "# Effects of temperature on microbial carbon use efficiency\n",
    "\n",
    "Danica Duan  \n",
    "Emma Cavan, Tom Clegg, Samraat Pawar"
   ]
  },
  {
   "cell_type": "markdown",
   "metadata": {},
   "source": [
    "## Introduction"
   ]
  },
  {
   "cell_type": "markdown",
   "metadata": {},
   "source": [
    "## The Model\n",
    "Adapted from [Emma Cavan](https://nbviewer.jupyter.org/github/e-cavan/Bacteria_Model/blob/master/Code/Consumer_Resource_Model.ipynb)'s model of the impact of chemical pollution on microbial communities. Originated from [Marsland et al. (2019)](https://journals.plos.org/ploscompbiol/article?id=10.1371/journal.pcbi.1006793) with [Tom Clegg](https://nbviewer.jupyter.org/github/CleggTom/Bacteria_EcoFunc/blob/master/notebooks/Metabolic_model.ipynb) making the first version.  \n",
    "\n",
    "Further adapted to monitor microbial carbon use efficiency over time with different temperature. "
   ]
  },
  {
   "cell_type": "markdown",
   "metadata": {},
   "source": [
    "### Equations\n",
    "#### General Model\n",
    "Growth rate (biomass) of species i on resource j: \n",
    "\\begin{equation}\n",
    "dC_i/dt = C_i\\Bigl(\\sum_{j=1}^{M}U_{ij}s_j(1-\\sum_{j=1}^{M}l_{jk}) - R_i\\Bigl)\n",
    "\\end{equation}\n",
    "\n",
    "Concentration dynamic of resource j:\n",
    "\\begin{equation}\n",
    "dS_j/dt = \\rho_j - \\sum_{i=1}^{N}\\Bigl(C_iU_{ij}s_j-\\sum_{k=1}^{M}C_iU_{ik}s_kl_{kj}\\Bigl)\n",
    "\\end{equation}\n",
    "\n",
    "Type 1:\n",
    "\\begin{equation}\\label{eq:}\n",
    "s_j = S_j\n",
    "\\end{equation}\n",
    "\n",
    "Type 2: Monod equation\n",
    "\\begin{equation}\n",
    "s_j = \\frac{S_j}{K_j + S_j}\n",
    "\\end{equation}\n",
    "\n",
    "\n",
    "| Parameter symbol | Parameter name | Units | Initial value |\n",
    "|---|---|---|---|\n",
    "| $M$ | Number of resources | - | User defined |\n",
    "| $N$ | Number of species | - | User defined |\n",
    "| $C_i$ | Bacteria population of species i | g/mL | 0.1 |\n",
    "| $S_j$ | Concentration of resource j | g/mL | 0.1 |\n",
    "| $K_j$ | Half saturation constant | g/mL | 0.5? |\n",
    "| $U_{ij}$ | Uptake of resource j by species i | - | Temperature & size dependant |\n",
    "| $R_i$ | Respiration of species i | - | Temperature & size dependant |\n",
    "| $l_{jk}$ | Leakage: proportion of resource j converted to resource k | - | 0.4? (Temperature-dependant?) |\n",
    "| $\\rho_j$ | Supply of resource j | g/mL | 1 |"
   ]
  },
  {
   "cell_type": "markdown",
   "metadata": {},
   "source": [
    "#### Size and Temperature Dependency\n",
    "\\begin{equation}\n",
    "U_{ij} = B_{U}M^{3/4} * {e^{\\frac{-Ea_U}{k}\\cdot\\Bigl(\\frac{1}{T} - \\frac{1}{T_{ref}}\\Bigl)}}\n",
    "\\end{equation}\n",
    "\n",
    "\\begin{equation}\n",
    "R_i = B_{R}M^{3/4} * {e^{\\frac{-Ea_R}{k}\\cdot\\Bigl(\\frac{1}{T} - \\frac{1}{T_{ref}}\\Bigl)}}\n",
    "\\end{equation}"
   ]
  },
  {
   "cell_type": "markdown",
   "metadata": {},
   "source": [
    "#### Carbon Use Efficiency\n",
    "\\begin{equation}\n",
    "CUE = \\frac{dC_i/dt}{U_is_j}\n",
    "\\end{equation}\n"
   ]
  }
 ],
 "metadata": {
  "kernelspec": {
   "display_name": "Python 3",
   "language": "python",
   "name": "python3"
  },
  "language_info": {
   "codemirror_mode": {
    "name": "ipython",
    "version": 3
   },
   "file_extension": ".py",
   "mimetype": "text/x-python",
   "name": "python",
   "nbconvert_exporter": "python",
   "pygments_lexer": "ipython3",
   "version": "3.8.3"
  },
  "latex_envs": {
   "LaTeX_envs_menu_present": true,
   "autoclose": false,
   "autocomplete": true,
   "bibliofile": "biblio.bib",
   "cite_by": "apalike",
   "current_citInitial": 1,
   "eqLabelWithNumbers": true,
   "eqNumInitial": 1,
   "hotkeys": {
    "equation": "Ctrl-E",
    "itemize": "Ctrl-I"
   },
   "labels_anchors": false,
   "latex_user_defs": false,
   "report_style_numbering": false,
   "user_envs_cfg": false
  }
 },
 "nbformat": 4,
 "nbformat_minor": 4
}
